{
 "cells": [
  {
   "cell_type": "markdown",
   "metadata": {
    "id": "F9719DfKHAlm"
   },
   "source": [
    "## NDBC data - analysis of wind vector time series\n",
    "\n",
    "This notebook demonstrates common time series analysis techniques with a two-dimensional data set: wind velocity from a meteorological buoy offshore of Monterey Bay. The buoy is maintained by the National Data Buoy Center (NDBC).\n",
    "\n",
    "The goal of this analysis is to rotate the wind data into an alongshore component (the wind blowing parallel to shore) and a cross-shore component (the wind blowing perpendicular to shore). This is useful because it is the alongshore component of wind stress that is responsible for coastal upwelling.\n",
    "\n",
    "Functions are provided for analysis routines that are useful for a wide range of data sets. They are based on functions in a larger package located at https://github.com/physoce/physoce-py.\n",
    "\n",
    "The example here is for wind data, but the same techniques can also be applied to ocean currents or any type of vector time series. As you go through the tutorial, try the exercises to check your understanding.\n",
    "\n",
    "![upwelling_cartoon](https://oceanexplorer.noaa.gov/facts/media/upwelling-800.jpg)\n",
    "\n",
    "#### Outline\n",
    "* [Load data and packages](#load-data-and-packages)\n",
    "* [Working with vector data](#working-with-vector-data)\n",
    "* [Coordinate system rotation](#coordinate-system-rotation)\n",
    "* [Conclusion](#conclusion)"
   ]
  },
  {
   "cell_type": "markdown",
   "metadata": {
    "id": "0GJWNrHXsccn"
   },
   "source": [
    "### Load data and packages\n",
    "\n",
    "#### Data source\n",
    "\n",
    "The data from Monterey NDBC buoy 46042 can be accessed from two different locations (we will be using the second here):\n",
    "\n",
    "* [Main page for buoy 46042 with real time data](https://www.ndbc.noaa.gov/station_page.php?station=46042)\n",
    "* [NDBC Thredds server](https://dods.ndbc.noaa.gov/thredds/catalog.html)\n",
    "\n",
    "![Buoy map](https://www.nws.noaa.gov/images/ndbc/maps/Monterey_Bay.gif)"
   ]
  },
  {
   "cell_type": "markdown",
   "metadata": {
    "id": "Ar7j_lg0IgHt"
   },
   "source": [
    "#### Install Python packages\n",
    "\n",
    "Some packages may need to be installed."
   ]
  },
  {
   "cell_type": "code",
   "execution_count": null,
   "metadata": {
    "id": "Sx9QPOrUIQ70"
   },
   "outputs": [],
   "source": [
    "!pip install netcdf4"
   ]
  },
  {
   "cell_type": "markdown",
   "metadata": {
    "id": "eAXG03woHyF6"
   },
   "source": [
    "#### Load Python packages\n",
    "\n",
    "This notebook uses the [xarray](http://xarray.pydata.org/en/stable/index.html) package, which is useful for working with multi-dimensional arrays. We will use xarray to load data in NetCDF format, which is a common data format used for large data sets in the earth sciences (CDF literally stands for \"common data format\").\n",
    "\n",
    "This notebook also uses functions specifically developed for oceanographic time series analyis in the [physoce](https://github.com/physoce/physoce-py) package."
   ]
  },
  {
   "cell_type": "code",
   "execution_count": null,
   "metadata": {
    "id": "sUxqTOK2HAlo"
   },
   "outputs": [],
   "source": [
    "import numpy as np\n",
    "import matplotlib.pyplot as plt\n",
    "import xarray as xr"
   ]
  },
  {
   "cell_type": "markdown",
   "metadata": {
    "id": "E_lN39uaHAly"
   },
   "source": [
    "#### Load wind data\n",
    "\n",
    "We can use xarray to access the data on NDBC's OpenDap server. This type of data server allows NetCDF data sets to be accessed online without ever having to download a file."
   ]
  },
  {
   "cell_type": "code",
   "execution_count": null,
   "metadata": {
    "id": "xcxLnGx_HAl2"
   },
   "outputs": [],
   "source": [
    "ncfile = 'https://dods.ndbc.noaa.gov/thredds/dodsC/data/stdmet/46042/46042h2019.nc'\n",
    "#ncfile = 'data/NDBC/46042h2019.nc'"
   ]
  },
  {
   "cell_type": "code",
   "execution_count": null,
   "metadata": {},
   "outputs": [],
   "source": []
  },
  {
   "cell_type": "markdown",
   "metadata": {
    "id": "4v38WmlUHAmG"
   },
   "source": [
    "#### Data structure\n",
    "\n",
    "NetCDF files and xarray datasets are organized around coordinates. In this dataset, there are three coordinates:\n",
    "\n",
    "* time\n",
    "* latitude\n",
    "* longitude\n",
    "\n",
    "Since this buoy is a single point, the latitude and longitude coordinates have only one value each."
   ]
  },
  {
   "cell_type": "code",
   "execution_count": null,
   "metadata": {
    "id": "GsVNmEoqHAmH"
   },
   "outputs": [],
   "source": []
  },
  {
   "cell_type": "markdown",
   "metadata": {
    "id": "ALIY2F0FHAmQ"
   },
   "source": [
    "To make all of the variables functions of time only, rather than time and space, we can \"squeeze\" the dataset. This removes the latitude and longitude dimensions of the data set (although they are kept as coordinates)."
   ]
  },
  {
   "cell_type": "code",
   "execution_count": null,
   "metadata": {
    "id": "ohOHem1wHAmQ"
   },
   "outputs": [],
   "source": []
  },
  {
   "cell_type": "markdown",
   "metadata": {
    "id": "3rP0HG-iHAmX"
   },
   "source": [
    "#### Labeled arrays\n",
    "\n",
    "One powerful feature of xarray is the ability to store metadata with each array. This can help you keep track of units."
   ]
  },
  {
   "cell_type": "code",
   "execution_count": null,
   "metadata": {
    "id": "p0KNTrv_HAmZ"
   },
   "outputs": [],
   "source": []
  },
  {
   "cell_type": "markdown",
   "metadata": {
    "id": "RHisz1fcHAmf"
   },
   "source": [
    "##### *Exercise*\n",
    "\n",
    "What are the units of air pressure in this dataset?"
   ]
  },
  {
   "cell_type": "code",
   "execution_count": null,
   "metadata": {
    "id": "9d44N6kCHAmg"
   },
   "outputs": [],
   "source": [
    "# insert code here"
   ]
  },
  {
   "cell_type": "markdown",
   "metadata": {
    "id": "4H7u3hKmHAmm"
   },
   "source": [
    "#### Time series plots"
   ]
  },
  {
   "cell_type": "code",
   "execution_count": null,
   "metadata": {
    "colab": {
     "base_uri": "https://localhost:8080/",
     "height": 298
    },
    "id": "QXtpFroGHAmn",
    "outputId": "f21d69d5-a1a4-461f-895b-9333739d02c3"
   },
   "outputs": [],
   "source": []
  },
  {
   "cell_type": "markdown",
   "metadata": {
    "id": "GtGEueY6HAmz"
   },
   "source": [
    "##### *Exercise*\n",
    "\n",
    "Make a plot for wind *direction*, including title and axis label."
   ]
  },
  {
   "cell_type": "code",
   "execution_count": null,
   "metadata": {
    "id": "chUcxNaJHAm0"
   },
   "outputs": [],
   "source": [
    "# insert code here"
   ]
  },
  {
   "cell_type": "markdown",
   "metadata": {
    "id": "GpYro6SLHAm5"
   },
   "source": [
    "### Working with vector data\n",
    "\n",
    "Vectors, like wind velocity, are characterized by a magnitude and direction. Scalars, like temperature, only have a magnitude. Vectors can be described in different ways. For example, instead of speed and direction, we can describe a wind vector in terms of its eastward and northward components.\n",
    "\n",
    "#### Calculating vector components\n",
    "\n",
    "NDBC provides data on wind speed and direction. Following typical meteorological convention, the direction describes the direction the wind is blowing from, clockwise from true north. We can convert the data to eastward and northward components. \n",
    "\n",
    "The eastward component describes how hard the wind is blowing towards the east. We will call this the $u$ component, where positive $u$ represents wind blowing toward the east and negative $u$ represents wind blowing toward the west.\n",
    "\n",
    "Similarly, the northward component describes how hard the wind is blowing towards the north. We will call this the $v$ component, where positive $v$ represents wind blowing toward the north and negative $v$ represents wind blowing toward the south.\n",
    "\n",
    "The function `wind_uv_from_spddir` converts wind vectors from speed and direction, as reported by NDBC, to eastward and northward components."
   ]
  },
  {
   "cell_type": "code",
   "execution_count": null,
   "metadata": {
    "id": "kWB-2nTwHAm6"
   },
   "outputs": [],
   "source": [
    "def wind_uv_from_spddir(wspd,wdir):\n",
    "    '''Convert wind speed and direction to eastward and northward components.\n",
    "    \n",
    "    Inputs\n",
    "    wspd - wind speed\n",
    "    wdir - wind direction (wind is blowing FROM this direction, \n",
    "                           clockwise from true north)\n",
    "    \n",
    "    Output:\n",
    "    u - eastward velocity component (TOWARDS the east)\n",
    "    v - northward velocity component (TOWARDS the north)\n",
    "    '''\n",
    "    \n",
    "    theta = np.array(wdir) # direction CW from true north\n",
    "    theta = theta*np.pi/180. # convert to radians\n",
    "    x = -np.sin(-theta)\n",
    "    y = np.cos(-theta)\n",
    "    theta_cart = np.arctan2(y,x) # direction CCW from east (Cartesian)\n",
    "    u = -wspd*np.cos(theta_cart) # eastward component\n",
    "    v = -wspd*np.sin(theta_cart) # northward component\n",
    "    \n",
    "    return u,v"
   ]
  },
  {
   "cell_type": "code",
   "execution_count": null,
   "metadata": {
    "id": "oE-chVuVHAm-"
   },
   "outputs": [],
   "source": []
  },
  {
   "cell_type": "code",
   "execution_count": null,
   "metadata": {
    "id": "MMVqprwOHAnD"
   },
   "outputs": [],
   "source": []
  },
  {
   "cell_type": "markdown",
   "metadata": {
    "id": "_SEZ5hR5HAnI"
   },
   "source": [
    "#### Plot the vector components"
   ]
  },
  {
   "cell_type": "markdown",
   "metadata": {
    "id": "2NPDdkYJHAnI"
   },
   "source": [
    "Plot the time series of eastward velocity and northward velocity (time on the x-axis, both eastward and northward velocity on the y-axis)."
   ]
  },
  {
   "cell_type": "code",
   "execution_count": null,
   "metadata": {
    "colab": {
     "base_uri": "https://localhost:8080/",
     "height": 298
    },
    "id": "rvDKs8BEHAnK",
    "outputId": "bf463f9d-d8b5-45bf-b920-87aa2dab9eb4"
   },
   "outputs": [],
   "source": []
  },
  {
   "cell_type": "markdown",
   "metadata": {
    "id": "wkqWKIe8HAnP"
   },
   "source": [
    "##### *Exercise*\n",
    "\n",
    "Identify a time when wind is blowing from the northwest and towards the southeast. This direction is favorable for upwelling along the California coast."
   ]
  },
  {
   "cell_type": "markdown",
   "metadata": {
    "id": "S2-_mSahHAnP"
   },
   "source": [
    "*(insert text here)*"
   ]
  },
  {
   "cell_type": "markdown",
   "metadata": {
    "id": "_IZ3uLjjHAnR"
   },
   "source": [
    "#### Alignment of wind velocity"
   ]
  },
  {
   "cell_type": "markdown",
   "metadata": {
    "id": "TQjg9G8fHAnR"
   },
   "source": [
    "By plotting eastward wind vs. northward wind, we can see that the wind off Monterey Bay tends to blow towards the southeast (upwelling-favorable) or towards the northwest (downwelling-favorable). This is because the wind tends to be steered parallel to the local coastline by coastal mountain ranges along the west coast."
   ]
  },
  {
   "cell_type": "markdown",
   "metadata": {
    "id": "Yzedsc0EHAnu"
   },
   "source": [
    "### Coordinate system rotation\n",
    "\n",
    "#### Rotating wind stress vectors"
   ]
  },
  {
   "cell_type": "markdown",
   "metadata": {
    "id": "Bk1r6q7RHAnu"
   },
   "source": [
    "The northward and eastward components of wind stress are not always the most useful for studying upwelling. It is the alongshore component of wind stress (the component parallel to shore) that is most important for upwelling. The direction parallel to shore is not always conveniently aligned in the north-south or east-west directions.\n",
    "\n",
    "To calculate the alongshore component of wind stress, the vectors are rotated from geographic coordinates (east and north) to \"natural\" coordinates (cross-shore and alongshore). The `rot` function rotates vectors to a new coordinate system defined by the user."
   ]
  },
  {
   "cell_type": "code",
   "execution_count": null,
   "metadata": {
    "id": "zUtmMZcPHAnv"
   },
   "outputs": [],
   "source": [
    "def rot(u,v,theta):\n",
    "    \"\"\"\n",
    "Rotate a vector counter-clockwise OR rotate the coordinate system clockwise.\n",
    "Usage:\n",
    "ur,vr = rot(u,v,theta)\n",
    "Input:\n",
    "u,v - vector components (e.g. u = eastward velocity, v = northward velocity)\n",
    "theta - rotation angle (degrees)\n",
    "Output:\n",
    "ur,vr - rotated vector components\n",
    "Example:\n",
    "rot(1,0,90) returns (0,1)\n",
    "    \"\"\"\n",
    "\n",
    "    w = u + 1j*v             # complex vector\n",
    "    ang = theta*np.pi/180    # convert angle to radians\n",
    "    wr = w*np.exp(1j*ang)    # complex vector rotation\n",
    "    ur = np.real(wr)         # return u and v components\n",
    "    vr = np.imag(wr)\n",
    "    return ur,vr"
   ]
  },
  {
   "cell_type": "markdown",
   "metadata": {
    "id": "basR5F1eHAnz"
   },
   "source": [
    "See what happens when the vectors are rotated 20 degrees clockwise."
   ]
  },
  {
   "cell_type": "code",
   "execution_count": null,
   "metadata": {
    "id": "d_rexLy0HAnz"
   },
   "outputs": [],
   "source": []
  },
  {
   "cell_type": "code",
   "execution_count": null,
   "metadata": {
    "colab": {
     "base_uri": "https://localhost:8080/",
     "height": 297
    },
    "id": "Or4-CPRaHAn4",
    "outputId": "4f2ea59e-e115-4d23-acd5-6eff59b82db7"
   },
   "outputs": [],
   "source": [
    "plt.figure(figsize=(8,4))\n",
    "plt.subplot(121)\n",
    "plt.plot(ds['wind_east'],ds['wind_north'],'.')\n",
    "plt.axis('equal')\n",
    "plt.xlabel('eastward wind velocity ($\\\\tau^{se}$)')\n",
    "plt.ylabel('northward wind velocity ($\\\\tau^{se}$)')\n",
    "plt.title('geographic coordinates')\n",
    "\n",
    "plt.subplot(122)\n",
    "plt.plot(ds['wind_x'],ds['wind_y'],'.')\n",
    "plt.axis('equal')\n",
    "plt.xlabel('velocity in $x$-direction ($\\\\tau^{sx}$)')\n",
    "plt.ylabel('velocity in $y$-direction ($\\\\tau^{sy}$)')\n",
    "plt.title('rotated coordinates')\n",
    "plt.tight_layout()"
   ]
  },
  {
   "cell_type": "markdown",
   "metadata": {
    "id": "-Utzgv_6HAn7"
   },
   "source": [
    "##### Exercise\n",
    "\n",
    "Modify the `rotation_angle` variable above and re-run the analysis. What angle makes the wind stress most aligned along the $y$ axis? What angle makes the wind stress most aligned along the $x$ axis?"
   ]
  },
  {
   "cell_type": "markdown",
   "metadata": {
    "id": "b-WgzucpHAn7"
   },
   "source": [
    "#### Principal axis angle\n",
    "\n",
    "Instead of trial and error, a principal axis analysis can be used to find the angle along which the wind stress is aligned. On the west coast, this typically corresponds with the local coastline. On the east coast, this is not necessarily case.\n",
    "\n",
    "The `princax` function can be used to find the pricipal axis angle. The variance of the data is maximized along this axis."
   ]
  },
  {
   "cell_type": "code",
   "execution_count": null,
   "metadata": {
    "id": "35josaYjHAn8"
   },
   "outputs": [],
   "source": [
    "def princax(u,v=None):\n",
    "    '''\n",
    "Principal axes of a vector time series.\n",
    "Usage:\n",
    "theta,major,minor = princax(u,v) # if u and v are real-valued vector components\n",
    "    or\n",
    "theta,major,minor = princax(w)   # if w is a complex vector\n",
    "Input:\n",
    "u,v - 1-D arrays of vector components (e.g. u = eastward velocity, v = northward velocity)\n",
    "    or\n",
    "w - 1-D array of complex vectors (u + 1j*v)\n",
    "Output:\n",
    "theta - angle of major axis (math notation, e.g. east = 0, north = 90)\n",
    "major - standard deviation along major axis\n",
    "minor - standard deviation along minor axis\n",
    "Reference: Emery and Thomson, 2001, Data Analysis Methods in Physical Oceanography, 2nd ed., pp. 325-328.\n",
    "Matlab function: http://woodshole.er.usgs.gov/operations/sea-mat/RPSstuff-html/princax.html\n",
    "    '''\n",
    "\n",
    "    # if one input only, decompose complex vector\n",
    "    if v is None:\n",
    "        w = np.copy(u)\n",
    "        u = np.real(w)\n",
    "        v = np.imag(w)\n",
    "\n",
    "    # only use finite values for covariance matrix\n",
    "    ii = np.isfinite(u+v)\n",
    "    uf = u[ii]\n",
    "    vf = v[ii]\n",
    "\n",
    "    # compute covariance matrix\n",
    "    C = np.cov(uf,vf)\n",
    "\n",
    "    # calculate principal axis angle (ET, Equation 4.3.23b)\n",
    "    theta = 0.5*np.arctan2(2.*C[0,1],(C[0,0] - C[1,1])) * 180/np.pi\n",
    "\n",
    "    # calculate variance along major and minor axes (Equation 4.3.24)\n",
    "    term1 = C[0,0] + C[1,1]\n",
    "    term2 = ((C[0,0] - C[1,1])**2 + 4*(C[0,1]**2))**0.5\n",
    "    major = np.sqrt(0.5*(term1 + term2))\n",
    "    minor = np.sqrt(0.5*(term1 - term2))\n",
    "\n",
    "    return theta,major,minor"
   ]
  },
  {
   "cell_type": "markdown",
   "metadata": {
    "id": "IyszXTExHAoA"
   },
   "source": [
    "Use this function on the wind data."
   ]
  },
  {
   "cell_type": "code",
   "execution_count": null,
   "metadata": {
    "id": "2a7JXAD8HAoA"
   },
   "outputs": [],
   "source": []
  },
  {
   "cell_type": "markdown",
   "metadata": {
    "id": "sj3NHoKHHAoD"
   },
   "source": [
    "Rotate the wind data based on the principal axis angle. Note that it is common among oceanographers on the west coast to align the alongshore coordinate with the $y$-axis, but this is up to you."
   ]
  },
  {
   "cell_type": "code",
   "execution_count": null,
   "metadata": {
    "id": "yaV3jPOeHAoE"
   },
   "outputs": [],
   "source": [
    "ds['wind_x'],ds['wind_y'] = rot(ds['wind_east'],ds['wind_north'],-theta-90)"
   ]
  },
  {
   "cell_type": "code",
   "execution_count": null,
   "metadata": {
    "colab": {
     "base_uri": "https://localhost:8080/",
     "height": 316
    },
    "id": "pP-JBb9ZHAoG",
    "outputId": "5a86fac4-4a2f-4f90-c0ef-b8b300255840"
   },
   "outputs": [],
   "source": [
    "plt.figure()\n",
    "plt.plot(ds['wind_x'],ds['wind_y'],'.')\n",
    "plt.axis('equal')\n",
    "plt.xlabel('velocity in $x$-direction ($\\\\tau^{sx}$)')\n",
    "plt.ylabel('velocity in $y$-direction ($\\\\tau^{sy}$)')\n",
    "plt.title('rotated coordinates')"
   ]
  },
  {
   "cell_type": "markdown",
   "metadata": {
    "id": "_En7hQ2FHAoJ"
   },
   "source": [
    "##### Exercise\n",
    "\n",
    "Plot the time series of wind velocity in the y-direction. Based on the time series plot, identify a period of upwelling favorable wind."
   ]
  },
  {
   "cell_type": "code",
   "execution_count": null,
   "metadata": {
    "colab": {
     "base_uri": "https://localhost:8080/",
     "height": 298
    },
    "id": "d-T9yxb1HAoK",
    "outputId": "a66b7d1f-23e4-4463-cd75-9e52b2473ca0"
   },
   "outputs": [],
   "source": []
  },
  {
   "cell_type": "markdown",
   "metadata": {
    "id": "qEm-jSI_HAoO",
    "tags": []
   },
   "source": [
    "##### Exercise\n",
    "\n",
    "Apply this same analysis to another NDBC buoy on the west coast. \n",
    "\n",
    "* Find the buoy ID number using the map interface at https://www.ndbc.noaa.gov/\n",
    "* In the `ncfile` variable above, replace 46042 with the new buoy ID number.\n",
    "* Identify a time when the wind is favorable for upwelling.\n",
    "* What rotation angle did you use?"
   ]
  },
  {
   "cell_type": "code",
   "execution_count": null,
   "metadata": {},
   "outputs": [],
   "source": []
  },
  {
   "cell_type": "markdown",
   "metadata": {
    "tags": []
   },
   "source": [
    "##### Bonus exercises\n",
    "\n",
    "Compute the offshore Ekman transport in the surface layer \n",
    "\n",
    "$$ U_{Ek} = \\tau^{sy}/(\\rho_0 f)$$\n",
    "\n",
    "where $\\tau^{sy}$ is the alongshore component of wind stress (the force per unit area on the ocean surface, in units of N/m$^2$), $f$ is the Coriolis parameter.\n",
    "\n",
    "* Install the Python [air-sea package](https://github.com/pyoceans/python-airsea) by typing the following command on the Mac terminal or Windows Git Bash command prompt.\n",
    "\n",
    "```\n",
    "pip install git+https://github.com/pyoceans/python-airsea.git\n",
    "```\n",
    "\n",
    "* Use the `wstress` function to calculate the magnitude of the wind stress from wind speed using the Large and Pond (1981) formulation and 3m anemometer hieght. For example:\n",
    "\n",
    "```\n",
    "from airsea import windstress as ws\n",
    "tau = ws.stress(wspd, 3.)\n",
    "```\n",
    "\n",
    "* Compute the eastward and northward components of wind stress.\n",
    "\n",
    "* Rotate the wind stress vectors and plot the alongshore component.\n",
    "\n",
    "* Calculate the Coriolis parameter $f = 2 \\Omega sin(\\phi)$, where $\\Omega$ is the Earth's rotation rate in radians/s and $\\phi$ is latitude. You can also use the `gsw.f` function in the [GSW-Python toolbox](https://teos-10.github.io/GSW-Python/). You should have this installed already.\n",
    "\n",
    "\n",
    "\n"
   ]
  },
  {
   "cell_type": "code",
   "execution_count": null,
   "metadata": {},
   "outputs": [],
   "source": []
  }
 ],
 "metadata": {
  "colab": {
   "include_colab_link": true,
   "name": "NDBC-wind-analysis.ipynb",
   "provenance": [],
   "toc_visible": true
  },
  "kernelspec": {
   "display_name": "Python 3 (ipykernel)",
   "language": "python",
   "name": "python3"
  },
  "language_info": {
   "codemirror_mode": {
    "name": "ipython",
    "version": 3
   },
   "file_extension": ".py",
   "mimetype": "text/x-python",
   "name": "python",
   "nbconvert_exporter": "python",
   "pygments_lexer": "ipython3",
   "version": "3.10.8"
  }
 },
 "nbformat": 4,
 "nbformat_minor": 4
}
